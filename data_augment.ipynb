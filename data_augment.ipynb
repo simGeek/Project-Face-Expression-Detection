{
 "cells": [
  {
   "cell_type": "code",
   "execution_count": null,
   "id": "2d2d0dd7-3b22-4c7a-9b1d-8386cd9958f6",
   "metadata": {},
   "outputs": [],
   "source": [
    "# This module provides functions for file and directory manipulation\\\n",
    "import os\n",
    "\n",
    "# This module provides functions for copying, moving, and deleting files and directories, \n",
    "# making it easier to manage file system tasks.\n",
    "import shutil\n",
    "\n",
    "# This module allows for various random operations, such as shuffling a list or generating random numbers\n",
    "import random\n",
    "\n",
    "# This module provides a variety of image augmentation techniques that can be applied to images \n",
    "# to artificially increase the size of a dataset by applying transformations such as rotations, flips and scaling\n",
    "from imgaug import augmenters as iaa\n",
    "\n",
    "# This module provides an interface to read and write image data in various formats\n",
    "import imageio.v2 as imageio"
   ]
  },
  {
   "cell_type": "code",
   "execution_count": null,
   "id": "fdd956c3-5fb6-4f55-9aab-ac6a9b11f95d",
   "metadata": {},
   "outputs": [
    {
     "name": "stdout",
     "output_type": "stream",
     "text": [
      "Class counts: {'angry': 4953, 'disgust': 547, 'fear': 5121, 'happy': 8989, 'neutral': 6198, 'sad': 6077, 'surprise': 4002}\n",
      "Majority count: 8989\n"
     ]
    }
   ],
   "source": [
    "# Defining the directory path where the face images are stored.\n",
    "data_dir = 'face_images'\n",
    "\n",
    "# The os.listdir() function returns a list of entries in the specified directory,\n",
    "# which in this case are the names of the subdirectories representing different image classes.\n",
    "class_names = os.listdir(data_dir)\n",
    "\n",
    "# Creating a dictionary 'class_counts' that maps each class name to the number of images in that class.\n",
    "class_counts = {class_name: len(os.listdir(os.path.join(data_dir, class_name))) for class_name in class_names}\n",
    "\n",
    "# The max() function is used to find the highest count of images from the values in the 'class_counts' dictionary.\n",
    "majority_count = max(class_counts.values())\n",
    "\n",
    "print(f\"Class counts: {class_counts}\")\n",
    "\n",
    "print(f\"Majority count: {majority_count}\")"
   ]
  },
  {
   "cell_type": "code",
   "execution_count": null,
   "id": "2a936cf0-ffa9-430d-a908-5ea72132483a",
   "metadata": {
    "jp-MarkdownHeadingCollapsed": true
   },
   "outputs": [
    {
     "name": "stdout",
     "output_type": "stream",
     "text": [
      "Processing face_images\\angry: 4953 images.\n",
      "Augmenting 4036 images in face_images\\angry.\n",
      "Processing face_images\\disgust: 547 images.\n",
      "Augmenting 8442 images in face_images\\disgust.\n",
      "Processing face_images\\fear: 5121 images.\n",
      "Augmenting 3868 images in face_images\\fear.\n",
      "Processing face_images\\happy: 8989 images.\n",
      "Processing face_images\\neutral: 6198 images.\n",
      "Augmenting 2791 images in face_images\\neutral.\n",
      "Processing face_images\\sad: 6077 images.\n",
      "Augmenting 2912 images in face_images\\sad.\n",
      "Processing face_images\\surprise: 4002 images.\n",
      "Augmenting 4987 images in face_images\\surprise.\n",
      "Augmentation complete.\n"
     ]
    }
   ],
   "source": [
    "# Defining the directory path where the augmented face images will be saved.\n",
    "output_dir = 'augmented_face_images'\n",
    "\n",
    "# Checking if the output directory exists; if it doesn't, create it.\n",
    "if not os.path.exists(output_dir):\n",
    "    os.makedirs(output_dir)\n",
    "\n",
    "# This augmenter applies a sequence of augmentations to images, enhancing data variability.\n",
    "augmenter = iaa.Sequential([\n",
    "    iaa.Fliplr(0.5),  # Applies horizontal flips with a probability of 50%.\n",
    "    iaa.Affine(rotate=(-20, 20)),  # Rotates images randomly by an angle between -20 and +20 degrees.\n",
    "    iaa.Crop(percent=(0, 0.1))  # Crops images from each side by a percentage between 0% and 10%.\n",
    "])\n",
    "\n",
    "# Listing the subfolders in the data directory, which contain the images for different classes.\n",
    "subfolders = [os.path.join(data_dir, subfolder) for subfolder in os.listdir(data_dir) if os.path.isdir(os.path.join(data_dir, subfolder))]\n",
    "\n",
    "# Setting the maximum count of images to be the majority count (maximum number of images in any subfolder).\n",
    "max_count = majority_count\n",
    "\n",
    "# This function reads an image from the specified path, applies augmentations using the augmenter, \n",
    "# and returns the augmented image.\n",
    "def augment_image(image_path):\n",
    "    image = imageio.imread(image_path)  \n",
    "    augmented_image = augmenter(image=image)  \n",
    "    return augmented_image\n",
    "\n",
    "# Processing each subfolder containing images.\n",
    "for subfolder in subfolders:\n",
    "    subfolder_name = os.path.basename(subfolder)  # Extracting the name of the subfolder.\n",
    "    output_subfolder = os.path.join(output_dir, subfolder_name)  # Creating the corresponding output path.\n",
    "    \n",
    "    # Creating the output subfolder if it doesn't already exist.\n",
    "    if not os.path.exists(output_subfolder):\n",
    "        os.makedirs(output_subfolder)\n",
    "\n",
    "    # Listing the images in the current subfolder.\n",
    "    images = [img for img in os.listdir(subfolder) if os.path.isfile(os.path.join(subfolder, img))]\n",
    "    image_count = len(images)  \n",
    "    print(f'Processing {subfolder}: {image_count} images.')\n",
    "\n",
    "    # Copying existing images from the input subfolder to the output subfolder.\n",
    "    for img in images:\n",
    "        shutil.copy(os.path.join(subfolder, img), os.path.join(output_subfolder, img))\n",
    "\n",
    "    # Checking if the number of images is less than the maximum count.\n",
    "    if image_count < max_count:\n",
    "        num_to_augment = max_count - image_count\n",
    "        print(f'Augmenting {num_to_augment} images in {subfolder}.')\n",
    "\n",
    "        # Augmenting the required number of images.\n",
    "        for _ in range(num_to_augment):\n",
    "            # Randomly selecting an image from the existing images to augment.\n",
    "            image_to_augment = random.choice(images)\n",
    "            image_path = os.path.join(subfolder, image_to_augment)\n",
    "\n",
    "            # Augmenting the selected image.\n",
    "            augmented_image = augment_image(image_path)\n",
    "\n",
    "            # Generating a random name for the augmented image.\n",
    "            augmented_image_name = f\"aug_{random.randint(100000, 999999)}.jpg\"\n",
    "            augmented_image_path = os.path.join(output_subfolder, augmented_image_name)\n",
    "\n",
    "            # Saving the augmented image to the output directory.\n",
    "            imageio.imwrite(augmented_image_path, augmented_image)\n",
    "\n",
    "print(\"Augmentation complete.\")"
   ]
  }
 ],
 "metadata": {
  "kernelspec": {
   "display_name": "Python 3 (ipykernel)",
   "language": "python",
   "name": "python3"
  },
  "language_info": {
   "codemirror_mode": {
    "name": "ipython",
    "version": 3
   },
   "file_extension": ".py",
   "mimetype": "text/x-python",
   "name": "python",
   "nbconvert_exporter": "python",
   "pygments_lexer": "ipython3",
   "version": "3.12.6"
  }
 },
 "nbformat": 4,
 "nbformat_minor": 5
}
